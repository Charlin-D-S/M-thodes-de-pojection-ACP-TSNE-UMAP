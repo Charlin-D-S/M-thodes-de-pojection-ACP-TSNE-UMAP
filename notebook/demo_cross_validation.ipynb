{
 "cells": [
  {
   "cell_type": "markdown",
   "metadata": {},
   "source": [
    "# Démo : Validation croisée"
   ]
  },
  {
   "cell_type": "markdown",
   "metadata": {},
   "source": [
    "# Importer les données"
   ]
  },
  {
   "cell_type": "markdown",
   "metadata": {},
   "source": [
    "Les données sont disponibles dans le fichier `breast_cancer.csv` dans le répertoire `data`. L'import de données se fait avec la commande `read_csv` de la librairie **pandas**. L'attribut `shape` contient les dimensions de la matrice de données (dataframe)."
   ]
  },
  {
   "cell_type": "code",
   "execution_count": 1,
   "metadata": {},
   "outputs": [
    {
     "name": "stdout",
     "output_type": "stream",
     "text": [
      "data (1016, 51)\n"
     ]
    }
   ],
   "source": [
    "import pandas as pd\n",
    "\n",
    "data = pd.read_csv('../data/breast_cancer.csv', sep=';', index_col='id_sample')\n",
    "print('data', data.shape)"
   ]
  },
  {
   "cell_type": "markdown",
   "metadata": {},
   "source": [
    "La méthode `head()` permet d'afficher les 5 premières lignes du dataframe."
   ]
  },
  {
   "cell_type": "code",
   "execution_count": 2,
   "metadata": {},
   "outputs": [
    {
     "data": {
      "text/html": [
       "<div>\n",
       "<style scoped>\n",
       "    .dataframe tbody tr th:only-of-type {\n",
       "        vertical-align: middle;\n",
       "    }\n",
       "\n",
       "    .dataframe tbody tr th {\n",
       "        vertical-align: top;\n",
       "    }\n",
       "\n",
       "    .dataframe thead th {\n",
       "        text-align: right;\n",
       "    }\n",
       "</style>\n",
       "<table border=\"1\" class=\"dataframe\">\n",
       "  <thead>\n",
       "    <tr style=\"text-align: right;\">\n",
       "      <th></th>\n",
       "      <th>NAT1</th>\n",
       "      <th>BIRC5</th>\n",
       "      <th>BAG1</th>\n",
       "      <th>BCL2</th>\n",
       "      <th>BLVRA</th>\n",
       "      <th>CCNB1</th>\n",
       "      <th>CCNE1</th>\n",
       "      <th>CDC6</th>\n",
       "      <th>CDC20</th>\n",
       "      <th>CDH3</th>\n",
       "      <th>...</th>\n",
       "      <th>GPR160</th>\n",
       "      <th>UBE2T</th>\n",
       "      <th>CXXC5</th>\n",
       "      <th>ANLN</th>\n",
       "      <th>CEP55</th>\n",
       "      <th>ACTR3B</th>\n",
       "      <th>MLPH</th>\n",
       "      <th>NUF2</th>\n",
       "      <th>TMEM45B</th>\n",
       "      <th>pam50</th>\n",
       "    </tr>\n",
       "    <tr>\n",
       "      <th>id_sample</th>\n",
       "      <th></th>\n",
       "      <th></th>\n",
       "      <th></th>\n",
       "      <th></th>\n",
       "      <th></th>\n",
       "      <th></th>\n",
       "      <th></th>\n",
       "      <th></th>\n",
       "      <th></th>\n",
       "      <th></th>\n",
       "      <th></th>\n",
       "      <th></th>\n",
       "      <th></th>\n",
       "      <th></th>\n",
       "      <th></th>\n",
       "      <th></th>\n",
       "      <th></th>\n",
       "      <th></th>\n",
       "      <th></th>\n",
       "      <th></th>\n",
       "      <th></th>\n",
       "    </tr>\n",
       "  </thead>\n",
       "  <tbody>\n",
       "    <tr>\n",
       "      <th>TCGA-3C-AAAU-01A</th>\n",
       "      <td>7.100449</td>\n",
       "      <td>3.361004</td>\n",
       "      <td>3.972581</td>\n",
       "      <td>4.145669</td>\n",
       "      <td>4.765233</td>\n",
       "      <td>4.788987</td>\n",
       "      <td>2.164814</td>\n",
       "      <td>2.633598</td>\n",
       "      <td>4.131205</td>\n",
       "      <td>0.133455</td>\n",
       "      <td>...</td>\n",
       "      <td>4.150233</td>\n",
       "      <td>4.106918</td>\n",
       "      <td>5.528618</td>\n",
       "      <td>3.073409</td>\n",
       "      <td>2.669860</td>\n",
       "      <td>1.928460</td>\n",
       "      <td>5.567999</td>\n",
       "      <td>2.536764</td>\n",
       "      <td>0.213597</td>\n",
       "      <td>luminal-A</td>\n",
       "    </tr>\n",
       "    <tr>\n",
       "      <th>TCGA-3C-AALI-01A</th>\n",
       "      <td>3.453640</td>\n",
       "      <td>4.501040</td>\n",
       "      <td>2.720929</td>\n",
       "      <td>1.493020</td>\n",
       "      <td>5.823480</td>\n",
       "      <td>5.281003</td>\n",
       "      <td>2.535437</td>\n",
       "      <td>2.734157</td>\n",
       "      <td>4.176553</td>\n",
       "      <td>0.110023</td>\n",
       "      <td>...</td>\n",
       "      <td>5.561226</td>\n",
       "      <td>5.648057</td>\n",
       "      <td>4.711309</td>\n",
       "      <td>3.881110</td>\n",
       "      <td>3.357553</td>\n",
       "      <td>1.168684</td>\n",
       "      <td>7.064176</td>\n",
       "      <td>3.124620</td>\n",
       "      <td>3.946538</td>\n",
       "      <td>HER2-enriched</td>\n",
       "    </tr>\n",
       "    <tr>\n",
       "      <th>TCGA-3C-AALJ-01A</th>\n",
       "      <td>4.455574</td>\n",
       "      <td>4.164643</td>\n",
       "      <td>3.911511</td>\n",
       "      <td>4.191457</td>\n",
       "      <td>5.987255</td>\n",
       "      <td>5.229446</td>\n",
       "      <td>2.267963</td>\n",
       "      <td>3.379961</td>\n",
       "      <td>4.592752</td>\n",
       "      <td>0.236786</td>\n",
       "      <td>...</td>\n",
       "      <td>2.859309</td>\n",
       "      <td>5.213461</td>\n",
       "      <td>6.152875</td>\n",
       "      <td>2.697093</td>\n",
       "      <td>2.599436</td>\n",
       "      <td>1.177678</td>\n",
       "      <td>5.222420</td>\n",
       "      <td>3.053335</td>\n",
       "      <td>0.281303</td>\n",
       "      <td>luminal-B</td>\n",
       "    </tr>\n",
       "    <tr>\n",
       "      <th>TCGA-3C-AALK-01A</th>\n",
       "      <td>4.297961</td>\n",
       "      <td>3.920234</td>\n",
       "      <td>3.688335</td>\n",
       "      <td>3.894904</td>\n",
       "      <td>5.211594</td>\n",
       "      <td>4.014641</td>\n",
       "      <td>0.951107</td>\n",
       "      <td>1.472950</td>\n",
       "      <td>3.806552</td>\n",
       "      <td>0.062392</td>\n",
       "      <td>...</td>\n",
       "      <td>3.063807</td>\n",
       "      <td>4.166154</td>\n",
       "      <td>5.612184</td>\n",
       "      <td>2.645664</td>\n",
       "      <td>2.448027</td>\n",
       "      <td>1.026535</td>\n",
       "      <td>6.225590</td>\n",
       "      <td>1.717959</td>\n",
       "      <td>3.289543</td>\n",
       "      <td>luminal-A</td>\n",
       "    </tr>\n",
       "    <tr>\n",
       "      <th>TCGA-4H-AAAK-01A</th>\n",
       "      <td>1.695378</td>\n",
       "      <td>2.950846</td>\n",
       "      <td>4.110014</td>\n",
       "      <td>3.572843</td>\n",
       "      <td>4.317856</td>\n",
       "      <td>3.772768</td>\n",
       "      <td>1.103958</td>\n",
       "      <td>2.338953</td>\n",
       "      <td>3.473484</td>\n",
       "      <td>0.098773</td>\n",
       "      <td>...</td>\n",
       "      <td>3.289418</td>\n",
       "      <td>3.437585</td>\n",
       "      <td>4.299617</td>\n",
       "      <td>2.068516</td>\n",
       "      <td>2.152652</td>\n",
       "      <td>1.513181</td>\n",
       "      <td>5.485277</td>\n",
       "      <td>1.537125</td>\n",
       "      <td>2.976903</td>\n",
       "      <td>luminal-A</td>\n",
       "    </tr>\n",
       "  </tbody>\n",
       "</table>\n",
       "<p>5 rows × 51 columns</p>\n",
       "</div>"
      ],
      "text/plain": [
       "                      NAT1     BIRC5      BAG1      BCL2     BLVRA     CCNB1  \\\n",
       "id_sample                                                                      \n",
       "TCGA-3C-AAAU-01A  7.100449  3.361004  3.972581  4.145669  4.765233  4.788987   \n",
       "TCGA-3C-AALI-01A  3.453640  4.501040  2.720929  1.493020  5.823480  5.281003   \n",
       "TCGA-3C-AALJ-01A  4.455574  4.164643  3.911511  4.191457  5.987255  5.229446   \n",
       "TCGA-3C-AALK-01A  4.297961  3.920234  3.688335  3.894904  5.211594  4.014641   \n",
       "TCGA-4H-AAAK-01A  1.695378  2.950846  4.110014  3.572843  4.317856  3.772768   \n",
       "\n",
       "                     CCNE1      CDC6     CDC20      CDH3  ...    GPR160  \\\n",
       "id_sample                                                 ...             \n",
       "TCGA-3C-AAAU-01A  2.164814  2.633598  4.131205  0.133455  ...  4.150233   \n",
       "TCGA-3C-AALI-01A  2.535437  2.734157  4.176553  0.110023  ...  5.561226   \n",
       "TCGA-3C-AALJ-01A  2.267963  3.379961  4.592752  0.236786  ...  2.859309   \n",
       "TCGA-3C-AALK-01A  0.951107  1.472950  3.806552  0.062392  ...  3.063807   \n",
       "TCGA-4H-AAAK-01A  1.103958  2.338953  3.473484  0.098773  ...  3.289418   \n",
       "\n",
       "                     UBE2T     CXXC5      ANLN     CEP55    ACTR3B      MLPH  \\\n",
       "id_sample                                                                      \n",
       "TCGA-3C-AAAU-01A  4.106918  5.528618  3.073409  2.669860  1.928460  5.567999   \n",
       "TCGA-3C-AALI-01A  5.648057  4.711309  3.881110  3.357553  1.168684  7.064176   \n",
       "TCGA-3C-AALJ-01A  5.213461  6.152875  2.697093  2.599436  1.177678  5.222420   \n",
       "TCGA-3C-AALK-01A  4.166154  5.612184  2.645664  2.448027  1.026535  6.225590   \n",
       "TCGA-4H-AAAK-01A  3.437585  4.299617  2.068516  2.152652  1.513181  5.485277   \n",
       "\n",
       "                      NUF2   TMEM45B          pam50  \n",
       "id_sample                                            \n",
       "TCGA-3C-AAAU-01A  2.536764  0.213597      luminal-A  \n",
       "TCGA-3C-AALI-01A  3.124620  3.946538  HER2-enriched  \n",
       "TCGA-3C-AALJ-01A  3.053335  0.281303      luminal-B  \n",
       "TCGA-3C-AALK-01A  1.717959  3.289543      luminal-A  \n",
       "TCGA-4H-AAAK-01A  1.537125  2.976903      luminal-A  \n",
       "\n",
       "[5 rows x 51 columns]"
      ]
     },
     "execution_count": 2,
     "metadata": {},
     "output_type": "execute_result"
    }
   ],
   "source": [
    "data.head()"
   ]
  },
  {
   "cell_type": "code",
   "execution_count": 3,
   "metadata": {},
   "outputs": [
    {
     "data": {
      "text/plain": [
       "pam50\n",
       "HER2-enriched     82\n",
       "basal-like       190\n",
       "luminal-A        543\n",
       "luminal-B        201\n",
       "dtype: int64"
      ]
     },
     "execution_count": 3,
     "metadata": {},
     "output_type": "execute_result"
    }
   ],
   "source": [
    "data.groupby(['pam50']).size()"
   ]
  },
  {
   "cell_type": "markdown",
   "metadata": {},
   "source": [
    "# Séparer les données d’expression et les étiquettes"
   ]
  },
  {
   "cell_type": "code",
   "execution_count": 4,
   "metadata": {},
   "outputs": [
    {
     "name": "stdout",
     "output_type": "stream",
     "text": [
      "X (1016, 50)\n"
     ]
    }
   ],
   "source": [
    "# Données d'expression de 50 gènes\n",
    "X = data.select_dtypes('number') \n",
    "print('X', X.shape)"
   ]
  },
  {
   "cell_type": "code",
   "execution_count": 5,
   "metadata": {},
   "outputs": [
    {
     "name": "stdout",
     "output_type": "stream",
     "text": [
      "y (1016,)\n"
     ]
    }
   ],
   "source": [
    "# Etiquettes correspondantes (sous-types moléculaires)\n",
    "y = data['pam50']\n",
    "print('y', y.shape)"
   ]
  },
  {
   "cell_type": "markdown",
   "metadata": {
    "tags": []
   },
   "source": [
    "# Créer une validation croisée stratifiée"
   ]
  },
  {
   "cell_type": "markdown",
   "metadata": {},
   "source": [
    "## Principe"
   ]
  },
  {
   "cell_type": "code",
   "execution_count": 6,
   "metadata": {},
   "outputs": [
    {
     "name": "stdout",
     "output_type": "stream",
     "text": [
      "Train (677, 50) Test (339, 50)\n",
      "Train (677, 50) Test (339, 50)\n",
      "Train (678, 50) Test (338, 50)\n"
     ]
    }
   ],
   "source": [
    "from sklearn.model_selection import StratifiedKFold\n",
    "\n",
    "random_state = 0\n",
    "cross_validation = StratifiedKFold(n_splits=3, random_state=random_state, shuffle=True)\n",
    "\n",
    "for train_index, test_index in cross_validation.split(X, y):\n",
    "    X_train = X.iloc[train_index]\n",
    "    X_test = X.iloc[test_index]\n",
    "    print('Train', X_train.shape, 'Test', X_test.shape)"
   ]
  },
  {
   "cell_type": "markdown",
   "metadata": {
    "tags": []
   },
   "source": [
    "## Calcul détaillé complet"
   ]
  },
  {
   "cell_type": "code",
   "execution_count": 7,
   "metadata": {},
   "outputs": [
    {
     "name": "stdout",
     "output_type": "stream",
     "text": [
      "Iteration 1 Accuracy = 0.93510324\n",
      "Iteration 2 Accuracy = 0.92920354\n",
      "Iteration 3 Accuracy = 0.95266272\n",
      "Mean accuracy 0.939\n"
     ]
    }
   ],
   "source": [
    "from sklearn.preprocessing import StandardScaler\n",
    "from sklearn.svm import SVC\n",
    "from sklearn import metrics\n",
    "\n",
    "scaler = StandardScaler()\n",
    "classifier = SVC(kernel='linear', random_state=random_state, class_weight='balanced')\n",
    "\n",
    "accuracy = pd.Series(dtype=float)\n",
    "\n",
    "iteration = 0\n",
    "for train_index, test_index in cross_validation.split(X, y):\n",
    "    \n",
    "    iteration += 1 # short version of \"iteration = iteration + 1\"\n",
    "    \n",
    "    # Train dataset\n",
    "    X_train = X.iloc[train_index]\n",
    "    y_train = y.iloc[train_index]\n",
    "    \n",
    "    # Test dataset\n",
    "    X_test = X.iloc[test_index]\n",
    "    y_test = y.iloc[test_index]\n",
    "    \n",
    "    # Scaled data\n",
    "    X_train_scaled = scaler.fit_transform(X_train)\n",
    "    X_test_scaled = scaler.transform(X_test) # transform only!\n",
    "    \n",
    "    # Train ML classifier\n",
    "    classifier.fit(X_train_scaled, y_train)\n",
    "    \n",
    "    # Prediction\n",
    "    y_pred_test = classifier.predict(X_test_scaled)\n",
    "    \n",
    "    # Accuracy\n",
    "    accuracy_test = metrics.accuracy_score(y_test, y_pred_test) \n",
    "    accuracy.loc[iteration] = accuracy_test\n",
    "    \n",
    "    # Display\n",
    "    print('Iteration', iteration, 'Accuracy =', '{:.8f}'.format(accuracy_test))\n",
    "\n",
    "print('Mean accuracy', '{:.3f}'.format(accuracy.mean()))"
   ]
  },
  {
   "cell_type": "markdown",
   "metadata": {},
   "source": [
    "## Pipeline"
   ]
  },
  {
   "cell_type": "code",
   "execution_count": 8,
   "metadata": {},
   "outputs": [
    {
     "name": "stdout",
     "output_type": "stream",
     "text": [
      "[0.93510324 0.92920354 0.95266272]\n",
      "Mean test accuracy 0.939\n"
     ]
    }
   ],
   "source": [
    "from sklearn.pipeline import Pipeline\n",
    "from sklearn.model_selection import cross_val_score\n",
    "\n",
    "pipeline = Pipeline([('scaler', scaler), ('classifier', classifier)])\n",
    "\n",
    "accuracy = cross_val_score(pipeline, X, y, cv=cross_validation)\n",
    "print(accuracy)\n",
    "print('Mean test accuracy', '{:.3f}'.format(accuracy.mean()))"
   ]
  },
  {
   "cell_type": "code",
   "execution_count": null,
   "metadata": {},
   "outputs": [],
   "source": []
  }
 ],
 "metadata": {
  "kernelspec": {
   "display_name": "Python 3 (ipykernel)",
   "language": "python",
   "name": "python3"
  },
  "language_info": {
   "codemirror_mode": {
    "name": "ipython",
    "version": 3
   },
   "file_extension": ".py",
   "mimetype": "text/x-python",
   "name": "python",
   "nbconvert_exporter": "python",
   "pygments_lexer": "ipython3",
   "version": "3.9.7"
  }
 },
 "nbformat": 4,
 "nbformat_minor": 4
}
